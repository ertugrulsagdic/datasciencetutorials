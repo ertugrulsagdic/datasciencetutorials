{
 "cells": [
  {
   "cell_type": "code",
   "execution_count": 20,
   "id": "15f61cb2",
   "metadata": {},
   "outputs": [],
   "source": [
    "import pandas as pd\n",
    "import numpy as np"
   ]
  },
  {
   "cell_type": "code",
   "execution_count": 21,
   "id": "48c7cfc7",
   "metadata": {},
   "outputs": [
    {
     "name": "stdout",
     "output_type": "stream",
     "text": [
      "<class 'pandas.core.frame.DataFrame'>\n",
      "RangeIndex: 699 entries, 0 to 698\n",
      "Data columns (total 3 columns):\n",
      " #   Column      Non-Null Count  Dtype  \n",
      "---  ------      --------------  -----  \n",
      " 0   date        699 non-null    object \n",
      " 1   daily-temp  686 non-null    float64\n",
      " 2   worker      699 non-null    object \n",
      "dtypes: float64(1), object(2)\n",
      "memory usage: 16.5+ KB\n"
     ]
    }
   ],
   "source": [
    "df = pd.read_excel('daily-temp.xlsx')\n",
    "df.info()"
   ]
  },
  {
   "cell_type": "markdown",
   "id": "bc1768dc",
   "metadata": {},
   "source": [
    "1. Turn object type to date, then mask the dates from 15th of June 1989."
   ]
  },
  {
   "cell_type": "code",
   "execution_count": 22,
   "id": "c993f864",
   "metadata": {},
   "outputs": [
    {
     "name": "stdout",
     "output_type": "stream",
     "text": [
      "<class 'pandas.core.frame.DataFrame'>\n",
      "Int64Index: 564 entries, 135 to 698\n",
      "Data columns (total 3 columns):\n",
      " #   Column      Non-Null Count  Dtype         \n",
      "---  ------      --------------  -----         \n",
      " 0   date        564 non-null    datetime64[ns]\n",
      " 1   daily-temp  554 non-null    float64       \n",
      " 2   worker      564 non-null    object        \n",
      "dtypes: datetime64[ns](1), float64(1), object(1)\n",
      "memory usage: 17.6+ KB\n"
     ]
    }
   ],
   "source": [
    "df['date'] = pd.to_datetime(df['date'])\n",
    "mask = (df['date'] > '15/6/1989')\n",
    "df = df.loc[mask]\n",
    "df.info()"
   ]
  },
  {
   "cell_type": "markdown",
   "id": "80a4962c",
   "metadata": {},
   "source": [
    "2. Replace of NaN daily-temp values by taking the average of that days one month before and later dates daily-temp values."
   ]
  },
  {
   "cell_type": "code",
   "execution_count": 23,
   "id": "e4f91915",
   "metadata": {},
   "outputs": [],
   "source": [
    "def takeAverage(x):\n",
    "    if np.isnan(x['daily-temp']):\n",
    "        before = df.loc[df['date'] ==(x['date'] + pd.DateOffset(days=-1)), 'daily-temp']\n",
    "        later = df.loc[df['date'] ==(x['date'] + pd.DateOffset(days=1)), 'daily-temp']\n",
    "        return (float(later) + float(before)) / 2\n",
    "    else: \n",
    "        return x['daily-temp']"
   ]
  },
  {
   "cell_type": "code",
   "execution_count": 24,
   "id": "98374ca9",
   "metadata": {},
   "outputs": [
    {
     "name": "stdout",
     "output_type": "stream",
     "text": [
      "<class 'pandas.core.frame.DataFrame'>\n",
      "Int64Index: 564 entries, 135 to 698\n",
      "Data columns (total 3 columns):\n",
      " #   Column      Non-Null Count  Dtype         \n",
      "---  ------      --------------  -----         \n",
      " 0   date        564 non-null    datetime64[ns]\n",
      " 1   daily-temp  564 non-null    float64       \n",
      " 2   worker      564 non-null    object        \n",
      "dtypes: datetime64[ns](1), float64(1), object(1)\n",
      "memory usage: 17.6+ KB\n"
     ]
    }
   ],
   "source": [
    "\n",
    "df['daily-temp'] = df.apply(lambda x : takeAverage(x),axis=1)\n",
    "df.info()"
   ]
  },
  {
   "cell_type": "markdown",
   "id": "a493415e",
   "metadata": {},
   "source": [
    "3. Separate the dates data frame as a new data frame by splitting the day, month, year, and is weekday of the date."
   ]
  },
  {
   "cell_type": "code",
   "execution_count": 25,
   "id": "f28adeb4",
   "metadata": {},
   "outputs": [
    {
     "data": {
      "text/html": [
       "<div>\n",
       "<style scoped>\n",
       "    .dataframe tbody tr th:only-of-type {\n",
       "        vertical-align: middle;\n",
       "    }\n",
       "\n",
       "    .dataframe tbody tr th {\n",
       "        vertical-align: top;\n",
       "    }\n",
       "\n",
       "    .dataframe thead th {\n",
       "        text-align: right;\n",
       "    }\n",
       "</style>\n",
       "<table border=\"1\" class=\"dataframe\">\n",
       "  <thead>\n",
       "    <tr style=\"text-align: right;\">\n",
       "      <th></th>\n",
       "      <th>day</th>\n",
       "      <th>month</th>\n",
       "      <th>year</th>\n",
       "      <th>is-weekday</th>\n",
       "    </tr>\n",
       "  </thead>\n",
       "  <tbody>\n",
       "    <tr>\n",
       "      <th>135</th>\n",
       "      <td>16</td>\n",
       "      <td>6</td>\n",
       "      <td>1989</td>\n",
       "      <td>True</td>\n",
       "    </tr>\n",
       "    <tr>\n",
       "      <th>136</th>\n",
       "      <td>17</td>\n",
       "      <td>6</td>\n",
       "      <td>1989</td>\n",
       "      <td>False</td>\n",
       "    </tr>\n",
       "    <tr>\n",
       "      <th>137</th>\n",
       "      <td>18</td>\n",
       "      <td>6</td>\n",
       "      <td>1989</td>\n",
       "      <td>False</td>\n",
       "    </tr>\n",
       "    <tr>\n",
       "      <th>138</th>\n",
       "      <td>19</td>\n",
       "      <td>6</td>\n",
       "      <td>1989</td>\n",
       "      <td>True</td>\n",
       "    </tr>\n",
       "    <tr>\n",
       "      <th>139</th>\n",
       "      <td>20</td>\n",
       "      <td>6</td>\n",
       "      <td>1989</td>\n",
       "      <td>True</td>\n",
       "    </tr>\n",
       "    <tr>\n",
       "      <th>...</th>\n",
       "      <td>...</td>\n",
       "      <td>...</td>\n",
       "      <td>...</td>\n",
       "      <td>...</td>\n",
       "    </tr>\n",
       "    <tr>\n",
       "      <th>694</th>\n",
       "      <td>27</td>\n",
       "      <td>12</td>\n",
       "      <td>1990</td>\n",
       "      <td>True</td>\n",
       "    </tr>\n",
       "    <tr>\n",
       "      <th>695</th>\n",
       "      <td>28</td>\n",
       "      <td>12</td>\n",
       "      <td>1990</td>\n",
       "      <td>True</td>\n",
       "    </tr>\n",
       "    <tr>\n",
       "      <th>696</th>\n",
       "      <td>29</td>\n",
       "      <td>12</td>\n",
       "      <td>1990</td>\n",
       "      <td>False</td>\n",
       "    </tr>\n",
       "    <tr>\n",
       "      <th>697</th>\n",
       "      <td>30</td>\n",
       "      <td>12</td>\n",
       "      <td>1990</td>\n",
       "      <td>False</td>\n",
       "    </tr>\n",
       "    <tr>\n",
       "      <th>698</th>\n",
       "      <td>31</td>\n",
       "      <td>12</td>\n",
       "      <td>1990</td>\n",
       "      <td>True</td>\n",
       "    </tr>\n",
       "  </tbody>\n",
       "</table>\n",
       "<p>564 rows × 4 columns</p>\n",
       "</div>"
      ],
      "text/plain": [
       "     day  month  year  is-weekday\n",
       "135   16      6  1989        True\n",
       "136   17      6  1989       False\n",
       "137   18      6  1989       False\n",
       "138   19      6  1989        True\n",
       "139   20      6  1989        True\n",
       "..   ...    ...   ...         ...\n",
       "694   27     12  1990        True\n",
       "695   28     12  1990        True\n",
       "696   29     12  1990       False\n",
       "697   30     12  1990       False\n",
       "698   31     12  1990        True\n",
       "\n",
       "[564 rows x 4 columns]"
      ]
     },
     "execution_count": 25,
     "metadata": {},
     "output_type": "execute_result"
    }
   ],
   "source": [
    "dates = pd.DataFrame()\n",
    "dates['day'] = df['date'].dt.day\n",
    "dates['month'] = df['date'].dt.month\n",
    "dates['year'] = df['date'].dt.year\n",
    "dates['is-weekday'] = df['date'].dt.weekday % 7 < 5\n",
    "dates"
   ]
  },
  {
   "cell_type": "markdown",
   "id": "a87f3f17",
   "metadata": {},
   "source": [
    "4. Write dates that are obtained from the data frame wirtten into the xlsx file."
   ]
  },
  {
   "cell_type": "code",
   "execution_count": 26,
   "id": "41762779",
   "metadata": {},
   "outputs": [],
   "source": [
    "dates.to_excel('dates.xlsx')"
   ]
  },
  {
   "cell_type": "code",
   "execution_count": 27,
   "id": "6ab726ff",
   "metadata": {},
   "outputs": [
    {
     "name": "stdout",
     "output_type": "stream",
     "text": [
      "<class 'pandas.core.frame.DataFrame'>\n",
      "RangeIndex: 564 entries, 0 to 563\n",
      "Data columns (total 7 columns):\n",
      " #   Column      Non-Null Count  Dtype         \n",
      "---  ------      --------------  -----         \n",
      " 0   date        564 non-null    datetime64[ns]\n",
      " 1   daily-temp  564 non-null    float64       \n",
      " 2   worker      564 non-null    object        \n",
      " 3   day         564 non-null    int64         \n",
      " 4   month       564 non-null    int64         \n",
      " 5   year        564 non-null    int64         \n",
      " 6   is-weekday  564 non-null    bool          \n",
      "dtypes: bool(1), datetime64[ns](1), float64(1), int64(3), object(1)\n",
      "memory usage: 27.1+ KB\n"
     ]
    }
   ],
   "source": [
    "df.reset_index(drop=True, inplace=True)\n",
    "dates.reset_index(drop=True, inplace=True)\n",
    "df = pd.concat([df, dates], axis=1)\n",
    "df.info()"
   ]
  },
  {
   "cell_type": "code",
   "execution_count": 28,
   "id": "dc13810c",
   "metadata": {},
   "outputs": [],
   "source": [
    "import matplotlib.pyplot as plt"
   ]
  },
  {
   "cell_type": "code",
   "execution_count": 29,
   "id": "35ffddad",
   "metadata": {},
   "outputs": [
    {
     "data": {
      "text/plain": [
       "<AxesSubplot:xlabel='date'>"
      ]
     },
     "execution_count": 29,
     "metadata": {},
     "output_type": "execute_result"
    },
    {
     "data": {
      "image/png": "[encoded data removed]",
      "text/plain": [
       "<Figure size 432x288 with 1 Axes>"
      ]
     },
     "metadata": {
      "needs_background": "light"
     },
     "output_type": "display_data"
    }
   ],
   "source": [
    "ax = plt.gca()\n",
    "df.plot(kind='line', x='date', y='daily-temp', ax=ax)"
   ]
  },
  {
   "cell_type": "code",
   "execution_count": 30,
   "id": "08ed7c60",
   "metadata": {},
   "outputs": [
    {
     "data": {
      "image/png": "[encoded data removed]",
      "text/plain": [
       "<Figure size 432x288 with 1 Axes>"
      ]
     },
     "metadata": {
      "needs_background": "light"
     },
     "output_type": "display_data"
    }
   ],
   "source": [
    "fig, ax = plt.subplots()\n",
    "for key, group in df.groupby('year'):\n",
    "    ax = group.plot(kind='line', ax=ax, x='date', y='daily-temp', label=key)\n",
    "plt.legend(loc='best')\n",
    "plt.show()"
   ]
  },
  {
   "cell_type": "markdown",
   "id": "711195d3",
   "metadata": {},
   "source": [
    "7. Print the total workdays of the workers."
   ]
  },
  {
   "cell_type": "code",
   "execution_count": 31,
   "id": "263b8ea7",
   "metadata": {},
   "outputs": [
    {
     "data": {
      "text/plain": [
       "worker\n",
       "ahmet    114 days\n",
       "hamza    204 days\n",
       "kemal     74 days\n",
       "mahmut    29 days\n",
       "mehmet    57 days\n",
       "umut      21 days\n",
       "yunus     58 days\n",
       "Name: date, dtype: timedelta64[ns]"
      ]
     },
     "execution_count": 31,
     "metadata": {},
     "output_type": "execute_result"
    }
   ],
   "source": [
    "groups = df.groupby('worker')['date']\n",
    "workdays = groups.last() - groups.first()\n",
    "workdays.to_excel('workdays.xlsx')\n",
    "workdays"
   ]
  },
  {
   "cell_type": "markdown",
   "id": "a442b7e1",
   "metadata": {},
   "source": [
    "8. Export the workers group by name."
   ]
  },
  {
   "cell_type": "code",
   "execution_count": 32,
   "id": "4405aa09",
   "metadata": {},
   "outputs": [
    {
     "name": "stdout",
     "output_type": "stream",
     "text": [
      "<class 'pandas.core.frame.DataFrame'>\n",
      "RangeIndex: 115 entries, 0 to 114\n",
      "Data columns (total 7 columns):\n",
      " #   Column      Non-Null Count  Dtype         \n",
      "---  ------      --------------  -----         \n",
      " 0   date        115 non-null    datetime64[ns]\n",
      " 1   daily-temp  115 non-null    float64       \n",
      " 2   worker      115 non-null    object        \n",
      " 3   day         115 non-null    int64         \n",
      " 4   month       115 non-null    int64         \n",
      " 5   year        115 non-null    int64         \n",
      " 6   is-weekday  115 non-null    bool          \n",
      "dtypes: bool(1), datetime64[ns](1), float64(1), int64(3), object(1)\n",
      "memory usage: 5.6+ KB\n",
      "<class 'pandas.core.frame.DataFrame'>\n",
      "RangeIndex: 205 entries, 0 to 204\n",
      "Data columns (total 7 columns):\n",
      " #   Column      Non-Null Count  Dtype         \n",
      "---  ------      --------------  -----         \n",
      " 0   date        205 non-null    datetime64[ns]\n",
      " 1   daily-temp  205 non-null    float64       \n",
      " 2   worker      205 non-null    object        \n",
      " 3   day         205 non-null    int64         \n",
      " 4   month       205 non-null    int64         \n",
      " 5   year        205 non-null    int64         \n",
      " 6   is-weekday  205 non-null    bool          \n",
      "dtypes: bool(1), datetime64[ns](1), float64(1), int64(3), object(1)\n",
      "memory usage: 9.9+ KB\n",
      "<class 'pandas.core.frame.DataFrame'>\n",
      "RangeIndex: 75 entries, 0 to 74\n",
      "Data columns (total 7 columns):\n",
      " #   Column      Non-Null Count  Dtype         \n",
      "---  ------      --------------  -----         \n",
      " 0   date        75 non-null     datetime64[ns]\n",
      " 1   daily-temp  75 non-null     float64       \n",
      " 2   worker      75 non-null     object        \n",
      " 3   day         75 non-null     int64         \n",
      " 4   month       75 non-null     int64         \n",
      " 5   year        75 non-null     int64         \n",
      " 6   is-weekday  75 non-null     bool          \n",
      "dtypes: bool(1), datetime64[ns](1), float64(1), int64(3), object(1)\n",
      "memory usage: 3.7+ KB\n",
      "<class 'pandas.core.frame.DataFrame'>\n",
      "RangeIndex: 30 entries, 0 to 29\n",
      "Data columns (total 7 columns):\n",
      " #   Column      Non-Null Count  Dtype         \n",
      "---  ------      --------------  -----         \n",
      " 0   date        30 non-null     datetime64[ns]\n",
      " 1   daily-temp  30 non-null     float64       \n",
      " 2   worker      30 non-null     object        \n",
      " 3   day         30 non-null     int64         \n",
      " 4   month       30 non-null     int64         \n",
      " 5   year        30 non-null     int64         \n",
      " 6   is-weekday  30 non-null     bool          \n",
      "dtypes: bool(1), datetime64[ns](1), float64(1), int64(3), object(1)\n",
      "memory usage: 1.6+ KB\n",
      "<class 'pandas.core.frame.DataFrame'>\n",
      "RangeIndex: 58 entries, 0 to 57\n",
      "Data columns (total 7 columns):\n",
      " #   Column      Non-Null Count  Dtype         \n",
      "---  ------      --------------  -----         \n",
      " 0   date        58 non-null     datetime64[ns]\n",
      " 1   daily-temp  58 non-null     float64       \n",
      " 2   worker      58 non-null     object        \n",
      " 3   day         58 non-null     int64         \n",
      " 4   month       58 non-null     int64         \n",
      " 5   year        58 non-null     int64         \n",
      " 6   is-weekday  58 non-null     bool          \n",
      "dtypes: bool(1), datetime64[ns](1), float64(1), int64(3), object(1)\n",
      "memory usage: 2.9+ KB\n",
      "<class 'pandas.core.frame.DataFrame'>\n",
      "RangeIndex: 22 entries, 0 to 21\n",
      "Data columns (total 7 columns):\n",
      " #   Column      Non-Null Count  Dtype         \n",
      "---  ------      --------------  -----         \n",
      " 0   date        22 non-null     datetime64[ns]\n",
      " 1   daily-temp  22 non-null     float64       \n",
      " 2   worker      22 non-null     object        \n",
      " 3   day         22 non-null     int64         \n",
      " 4   month       22 non-null     int64         \n",
      " 5   year        22 non-null     int64         \n",
      " 6   is-weekday  22 non-null     bool          \n",
      "dtypes: bool(1), datetime64[ns](1), float64(1), int64(3), object(1)\n",
      "memory usage: 1.2+ KB\n",
      "<class 'pandas.core.frame.DataFrame'>\n",
      "RangeIndex: 59 entries, 0 to 58\n",
      "Data columns (total 7 columns):\n",
      " #   Column      Non-Null Count  Dtype         \n",
      "---  ------      --------------  -----         \n",
      " 0   date        59 non-null     datetime64[ns]\n",
      " 1   daily-temp  59 non-null     float64       \n",
      " 2   worker      59 non-null     object        \n",
      " 3   day         59 non-null     int64         \n",
      " 4   month       59 non-null     int64         \n",
      " 5   year        59 non-null     int64         \n",
      " 6   is-weekday  59 non-null     bool          \n",
      "dtypes: bool(1), datetime64[ns](1), float64(1), int64(3), object(1)\n",
      "memory usage: 2.9+ KB\n"
     ]
    }
   ],
   "source": [
    "for key, group in df.groupby('worker'):\n",
    "    group.reset_index(drop=True, inplace=True)\n",
    "    group.to_excel('workers/' + str(key) + '.xlsx')\n",
    "    group.info()"
   ]
  },
  {
   "cell_type": "code",
   "execution_count": 33,
   "id": "e41c449e",
   "metadata": {},
   "outputs": [
    {
     "name": "stdout",
     "output_type": "stream",
     "text": [
      "<class 'pandas.core.frame.DataFrame'>\n",
      "RangeIndex: 7 entries, 0 to 6\n",
      "Data columns (total 2 columns):\n",
      " #   Column  Non-Null Count  Dtype  \n",
      "---  ------  --------------  -----  \n",
      " 0   worker  7 non-null      object \n",
      " 1   avg     7 non-null      float64\n",
      "dtypes: float64(1), object(1)\n",
      "memory usage: 240.0+ bytes\n"
     ]
    }
   ],
   "source": [
    "\n",
    "groups = df.groupby('worker')['daily-temp']\n",
    "averages = groups.mean().to_frame(name= 'avg').reset_index()\n",
    "averages.info()"
   ]
  },
  {
   "cell_type": "code",
   "execution_count": 34,
   "id": "2fb7c911",
   "metadata": {},
   "outputs": [
    {
     "data": {
      "image/png": "[encoded data removed]",
      "text/plain": [
       "<Figure size 432x288 with 1 Axes>"
      ]
     },
     "metadata": {
      "needs_background": "light"
     },
     "output_type": "display_data"
    }
   ],
   "source": [
    "averages.plot(kind='bar', x='worker', y='avg')\n",
    "plt.show()"
   ]
  },
  {
   "cell_type": "code",
   "execution_count": 35,
   "id": "db54f9c1",
   "metadata": {},
   "outputs": [
    {
     "data": {
      "text/html": [
       "<div>\n",
       "<style scoped>\n",
       "    .dataframe tbody tr th:only-of-type {\n",
       "        vertical-align: middle;\n",
       "    }\n",
       "\n",
       "    .dataframe tbody tr th {\n",
       "        vertical-align: top;\n",
       "    }\n",
       "\n",
       "    .dataframe thead th {\n",
       "        text-align: right;\n",
       "    }\n",
       "</style>\n",
       "<table border=\"1\" class=\"dataframe\">\n",
       "  <thead>\n",
       "    <tr style=\"text-align: right;\">\n",
       "      <th></th>\n",
       "      <th>year</th>\n",
       "      <th>month</th>\n",
       "      <th>avg</th>\n",
       "    </tr>\n",
       "  </thead>\n",
       "  <tbody>\n",
       "    <tr>\n",
       "      <th>0</th>\n",
       "      <td>1989</td>\n",
       "      <td>6</td>\n",
       "      <td>6.000000</td>\n",
       "    </tr>\n",
       "    <tr>\n",
       "      <th>1</th>\n",
       "      <td>1989</td>\n",
       "      <td>7</td>\n",
       "      <td>6.332258</td>\n",
       "    </tr>\n",
       "    <tr>\n",
       "      <th>2</th>\n",
       "      <td>1989</td>\n",
       "      <td>8</td>\n",
       "      <td>6.770968</td>\n",
       "    </tr>\n",
       "    <tr>\n",
       "      <th>3</th>\n",
       "      <td>1989</td>\n",
       "      <td>9</td>\n",
       "      <td>8.366667</td>\n",
       "    </tr>\n",
       "    <tr>\n",
       "      <th>4</th>\n",
       "      <td>1989</td>\n",
       "      <td>10</td>\n",
       "      <td>9.867742</td>\n",
       "    </tr>\n",
       "    <tr>\n",
       "      <th>5</th>\n",
       "      <td>1989</td>\n",
       "      <td>11</td>\n",
       "      <td>12.876667</td>\n",
       "    </tr>\n",
       "    <tr>\n",
       "      <th>6</th>\n",
       "      <td>1989</td>\n",
       "      <td>12</td>\n",
       "      <td>13.951613</td>\n",
       "    </tr>\n",
       "    <tr>\n",
       "      <th>7</th>\n",
       "      <td>1990</td>\n",
       "      <td>1</td>\n",
       "      <td>15.577419</td>\n",
       "    </tr>\n",
       "    <tr>\n",
       "      <th>8</th>\n",
       "      <td>1990</td>\n",
       "      <td>2</td>\n",
       "      <td>15.417857</td>\n",
       "    </tr>\n",
       "    <tr>\n",
       "      <th>9</th>\n",
       "      <td>1990</td>\n",
       "      <td>3</td>\n",
       "      <td>14.841935</td>\n",
       "    </tr>\n",
       "    <tr>\n",
       "      <th>10</th>\n",
       "      <td>1990</td>\n",
       "      <td>4</td>\n",
       "      <td>13.433333</td>\n",
       "    </tr>\n",
       "    <tr>\n",
       "      <th>11</th>\n",
       "      <td>1990</td>\n",
       "      <td>5</td>\n",
       "      <td>9.751613</td>\n",
       "    </tr>\n",
       "    <tr>\n",
       "      <th>12</th>\n",
       "      <td>1990</td>\n",
       "      <td>6</td>\n",
       "      <td>7.718333</td>\n",
       "    </tr>\n",
       "    <tr>\n",
       "      <th>13</th>\n",
       "      <td>1990</td>\n",
       "      <td>7</td>\n",
       "      <td>8.209677</td>\n",
       "    </tr>\n",
       "    <tr>\n",
       "      <th>14</th>\n",
       "      <td>1990</td>\n",
       "      <td>8</td>\n",
       "      <td>7.777419</td>\n",
       "    </tr>\n",
       "    <tr>\n",
       "      <th>15</th>\n",
       "      <td>1990</td>\n",
       "      <td>9</td>\n",
       "      <td>9.280000</td>\n",
       "    </tr>\n",
       "    <tr>\n",
       "      <th>16</th>\n",
       "      <td>1990</td>\n",
       "      <td>10</td>\n",
       "      <td>11.393548</td>\n",
       "    </tr>\n",
       "    <tr>\n",
       "      <th>17</th>\n",
       "      <td>1990</td>\n",
       "      <td>11</td>\n",
       "      <td>12.650000</td>\n",
       "    </tr>\n",
       "    <tr>\n",
       "      <th>18</th>\n",
       "      <td>1990</td>\n",
       "      <td>12</td>\n",
       "      <td>14.369355</td>\n",
       "    </tr>\n",
       "  </tbody>\n",
       "</table>\n",
       "</div>"
      ],
      "text/plain": [
       "    year  month        avg\n",
       "0   1989      6   6.000000\n",
       "1   1989      7   6.332258\n",
       "2   1989      8   6.770968\n",
       "3   1989      9   8.366667\n",
       "4   1989     10   9.867742\n",
       "5   1989     11  12.876667\n",
       "6   1989     12  13.951613\n",
       "7   1990      1  15.577419\n",
       "8   1990      2  15.417857\n",
       "9   1990      3  14.841935\n",
       "10  1990      4  13.433333\n",
       "11  1990      5   9.751613\n",
       "12  1990      6   7.718333\n",
       "13  1990      7   8.209677\n",
       "14  1990      8   7.777419\n",
       "15  1990      9   9.280000\n",
       "16  1990     10  11.393548\n",
       "17  1990     11  12.650000\n",
       "18  1990     12  14.369355"
      ]
     },
     "execution_count": 35,
     "metadata": {},
     "output_type": "execute_result"
    }
   ],
   "source": [
    "groups = df.groupby(['year', 'month'])['daily-temp']\n",
    "monthly_averages = groups.mean().to_frame(name= 'avg').reset_index()\n",
    "monthly_averages"
   ]
  },
  {
   "cell_type": "code",
   "execution_count": 36,
   "id": "d49c6b06",
   "metadata": {},
   "outputs": [
    {
     "data": {
      "text/plain": [
       "<AxesSubplot:xlabel='is-weekday'>"
      ]
     },
     "execution_count": 36,
     "metadata": {},
     "output_type": "execute_result"
    },
    {
     "data": {
      "image/png": "[encoded data removed]",
      "text/plain": [
       "<Figure size 432x288 with 1 Axes>"
      ]
     },
     "metadata": {
      "needs_background": "light"
     },
     "output_type": "display_data"
    }
   ],
   "source": [
    "groups = df.loc[df['month'] == 7].reset_index().groupby('is-weekday')['daily-temp']\n",
    "june_averages = groups.mean().to_frame(name= 'avg').reset_index()\n",
    "june_averages.plot(kind='bar', x='is-weekday', y='avg')"
   ]
  }
 ],
 "metadata": {
  "kernelspec": {
   "display_name": "Python 3 (ipykernel)",
   "language": "python",
   "name": "python3"
  },
  "language_info": {
   "codemirror_mode": {
    "name": "ipython",
    "version": 3
   },
   "file_extension": ".py",
   "mimetype": "text/x-python",
   "name": "python",
   "nbconvert_exporter": "python",
   "pygments_lexer": "ipython3",
   "version": "3.8.9"
  }
 },
 "nbformat": 4,
 "nbformat_minor": 5
}
