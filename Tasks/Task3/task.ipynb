{
 "cells": [
  {
   "cell_type": "code",
   "execution_count": 1,
   "id": "f2c7ce57",
   "metadata": {},
   "outputs": [],
   "source": [
    "import pandas as pd\n",
    "import numpy as np\n",
    "import datetime as dt\n",
    "import statsmodels.api as sm\n",
    "%matplotlib widget\n",
    "import matplotlib.pyplot as plt"
   ]
  },
  {
   "cell_type": "code",
   "execution_count": 2,
   "id": "98d5d528",
   "metadata": {},
   "outputs": [
    {
     "data": {
      "text/html": [
       "<div>\n",
       "<style scoped>\n",
       "    .dataframe tbody tr th:only-of-type {\n",
       "        vertical-align: middle;\n",
       "    }\n",
       "\n",
       "    .dataframe tbody tr th {\n",
       "        vertical-align: top;\n",
       "    }\n",
       "\n",
       "    .dataframe thead th {\n",
       "        text-align: right;\n",
       "    }\n",
       "</style>\n",
       "<table border=\"1\" class=\"dataframe\">\n",
       "  <thead>\n",
       "    <tr style=\"text-align: right;\">\n",
       "      <th></th>\n",
       "      <th>sID</th>\n",
       "      <th>Count</th>\n",
       "    </tr>\n",
       "    <tr>\n",
       "      <th>Datetime</th>\n",
       "      <th></th>\n",
       "      <th></th>\n",
       "    </tr>\n",
       "  </thead>\n",
       "  <tbody>\n",
       "    <tr>\n",
       "      <th>2012-01-09</th>\n",
       "      <td>4308</td>\n",
       "      <td>112</td>\n",
       "    </tr>\n",
       "    <tr>\n",
       "      <th>2012-01-10</th>\n",
       "      <td>21588</td>\n",
       "      <td>248</td>\n",
       "    </tr>\n",
       "    <tr>\n",
       "      <th>2012-01-11</th>\n",
       "      <td>39444</td>\n",
       "      <td>304</td>\n",
       "    </tr>\n",
       "    <tr>\n",
       "      <th>2012-01-12</th>\n",
       "      <td>56724</td>\n",
       "      <td>210</td>\n",
       "    </tr>\n",
       "    <tr>\n",
       "      <th>2012-01-13</th>\n",
       "      <td>0</td>\n",
       "      <td>0</td>\n",
       "    </tr>\n",
       "    <tr>\n",
       "      <th>...</th>\n",
       "      <td>...</td>\n",
       "      <td>...</td>\n",
       "    </tr>\n",
       "    <tr>\n",
       "      <th>2013-12-27</th>\n",
       "      <td>281940</td>\n",
       "      <td>3868</td>\n",
       "    </tr>\n",
       "    <tr>\n",
       "      <th>2013-12-28</th>\n",
       "      <td>282516</td>\n",
       "      <td>3084</td>\n",
       "    </tr>\n",
       "    <tr>\n",
       "      <th>2013-12-29</th>\n",
       "      <td>283092</td>\n",
       "      <td>2330</td>\n",
       "    </tr>\n",
       "    <tr>\n",
       "      <th>2013-12-30</th>\n",
       "      <td>283668</td>\n",
       "      <td>4928</td>\n",
       "    </tr>\n",
       "    <tr>\n",
       "      <th>2013-12-31</th>\n",
       "      <td>284244</td>\n",
       "      <td>4860</td>\n",
       "    </tr>\n",
       "  </tbody>\n",
       "</table>\n",
       "<p>723 rows × 2 columns</p>\n",
       "</div>"
      ],
      "text/plain": [
       "               sID  Count\n",
       "Datetime                 \n",
       "2012-01-09    4308    112\n",
       "2012-01-10   21588    248\n",
       "2012-01-11   39444    304\n",
       "2012-01-12   56724    210\n",
       "2012-01-13       0      0\n",
       "...            ...    ...\n",
       "2013-12-27  281940   3868\n",
       "2013-12-28  282516   3084\n",
       "2013-12-29  283092   2330\n",
       "2013-12-30  283668   4928\n",
       "2013-12-31  284244   4860\n",
       "\n",
       "[723 rows x 2 columns]"
      ]
     },
     "execution_count": 2,
     "metadata": {},
     "output_type": "execute_result"
    }
   ],
   "source": [
    "df = pd.read_csv('dataset.csv')\n",
    "df['Datetime'] = pd.to_datetime(df['Datetime'])\n",
    "df.set_index('Datetime')\n",
    "df=df.resample('D',on='Datetime').sum()\n",
    "df"
   ]
  },
  {
   "cell_type": "code",
   "execution_count": 3,
   "id": "9fb194fa",
   "metadata": {},
   "outputs": [],
   "source": [
    "df.reset_index(level=0, inplace=True)"
   ]
  },
  {
   "cell_type": "code",
   "execution_count": 4,
   "id": "ba325e15",
   "metadata": {},
   "outputs": [
    {
     "data": {
      "text/html": [
       "<div>\n",
       "<style scoped>\n",
       "    .dataframe tbody tr th:only-of-type {\n",
       "        vertical-align: middle;\n",
       "    }\n",
       "\n",
       "    .dataframe tbody tr th {\n",
       "        vertical-align: top;\n",
       "    }\n",
       "\n",
       "    .dataframe thead th {\n",
       "        text-align: right;\n",
       "    }\n",
       "</style>\n",
       "<table border=\"1\" class=\"dataframe\">\n",
       "  <thead>\n",
       "    <tr style=\"text-align: right;\">\n",
       "      <th></th>\n",
       "      <th>Datetime</th>\n",
       "      <th>sID</th>\n",
       "      <th>Count</th>\n",
       "    </tr>\n",
       "  </thead>\n",
       "  <tbody>\n",
       "    <tr>\n",
       "      <th>692</th>\n",
       "      <td>2013-12-01</td>\n",
       "      <td>80916</td>\n",
       "      <td>222</td>\n",
       "    </tr>\n",
       "    <tr>\n",
       "      <th>693</th>\n",
       "      <td>2013-12-02</td>\n",
       "      <td>98772</td>\n",
       "      <td>490</td>\n",
       "    </tr>\n",
       "    <tr>\n",
       "      <th>694</th>\n",
       "      <td>2013-12-03</td>\n",
       "      <td>114900</td>\n",
       "      <td>530</td>\n",
       "    </tr>\n",
       "    <tr>\n",
       "      <th>695</th>\n",
       "      <td>2013-12-04</td>\n",
       "      <td>132756</td>\n",
       "      <td>852</td>\n",
       "    </tr>\n",
       "    <tr>\n",
       "      <th>696</th>\n",
       "      <td>2013-12-05</td>\n",
       "      <td>150036</td>\n",
       "      <td>484</td>\n",
       "    </tr>\n",
       "    <tr>\n",
       "      <th>697</th>\n",
       "      <td>2013-12-06</td>\n",
       "      <td>167892</td>\n",
       "      <td>1822</td>\n",
       "    </tr>\n",
       "    <tr>\n",
       "      <th>698</th>\n",
       "      <td>2013-12-07</td>\n",
       "      <td>185172</td>\n",
       "      <td>1292</td>\n",
       "    </tr>\n",
       "    <tr>\n",
       "      <th>699</th>\n",
       "      <td>2013-12-08</td>\n",
       "      <td>203028</td>\n",
       "      <td>2304</td>\n",
       "    </tr>\n",
       "    <tr>\n",
       "      <th>700</th>\n",
       "      <td>2013-12-09</td>\n",
       "      <td>220884</td>\n",
       "      <td>2844</td>\n",
       "    </tr>\n",
       "    <tr>\n",
       "      <th>701</th>\n",
       "      <td>2013-12-10</td>\n",
       "      <td>238164</td>\n",
       "      <td>2330</td>\n",
       "    </tr>\n",
       "    <tr>\n",
       "      <th>702</th>\n",
       "      <td>2013-12-11</td>\n",
       "      <td>256020</td>\n",
       "      <td>3262</td>\n",
       "    </tr>\n",
       "    <tr>\n",
       "      <th>703</th>\n",
       "      <td>2013-12-12</td>\n",
       "      <td>273300</td>\n",
       "      <td>4772</td>\n",
       "    </tr>\n",
       "    <tr>\n",
       "      <th>704</th>\n",
       "      <td>2013-12-13</td>\n",
       "      <td>273876</td>\n",
       "      <td>3624</td>\n",
       "    </tr>\n",
       "    <tr>\n",
       "      <th>705</th>\n",
       "      <td>2013-12-14</td>\n",
       "      <td>274452</td>\n",
       "      <td>2166</td>\n",
       "    </tr>\n",
       "    <tr>\n",
       "      <th>706</th>\n",
       "      <td>2013-12-15</td>\n",
       "      <td>275028</td>\n",
       "      <td>2722</td>\n",
       "    </tr>\n",
       "    <tr>\n",
       "      <th>707</th>\n",
       "      <td>2013-12-16</td>\n",
       "      <td>275604</td>\n",
       "      <td>5252</td>\n",
       "    </tr>\n",
       "    <tr>\n",
       "      <th>708</th>\n",
       "      <td>2013-12-17</td>\n",
       "      <td>276180</td>\n",
       "      <td>4508</td>\n",
       "    </tr>\n",
       "    <tr>\n",
       "      <th>709</th>\n",
       "      <td>2013-12-18</td>\n",
       "      <td>276756</td>\n",
       "      <td>4708</td>\n",
       "    </tr>\n",
       "    <tr>\n",
       "      <th>710</th>\n",
       "      <td>2013-12-19</td>\n",
       "      <td>277332</td>\n",
       "      <td>4344</td>\n",
       "    </tr>\n",
       "    <tr>\n",
       "      <th>711</th>\n",
       "      <td>2013-12-20</td>\n",
       "      <td>277908</td>\n",
       "      <td>3474</td>\n",
       "    </tr>\n",
       "    <tr>\n",
       "      <th>712</th>\n",
       "      <td>2013-12-21</td>\n",
       "      <td>278484</td>\n",
       "      <td>1988</td>\n",
       "    </tr>\n",
       "    <tr>\n",
       "      <th>713</th>\n",
       "      <td>2013-12-22</td>\n",
       "      <td>279060</td>\n",
       "      <td>1862</td>\n",
       "    </tr>\n",
       "    <tr>\n",
       "      <th>714</th>\n",
       "      <td>2013-12-23</td>\n",
       "      <td>279636</td>\n",
       "      <td>3642</td>\n",
       "    </tr>\n",
       "    <tr>\n",
       "      <th>715</th>\n",
       "      <td>2013-12-24</td>\n",
       "      <td>280212</td>\n",
       "      <td>3198</td>\n",
       "    </tr>\n",
       "    <tr>\n",
       "      <th>716</th>\n",
       "      <td>2013-12-25</td>\n",
       "      <td>280788</td>\n",
       "      <td>3676</td>\n",
       "    </tr>\n",
       "    <tr>\n",
       "      <th>717</th>\n",
       "      <td>2013-12-26</td>\n",
       "      <td>281364</td>\n",
       "      <td>3376</td>\n",
       "    </tr>\n",
       "    <tr>\n",
       "      <th>718</th>\n",
       "      <td>2013-12-27</td>\n",
       "      <td>281940</td>\n",
       "      <td>3868</td>\n",
       "    </tr>\n",
       "    <tr>\n",
       "      <th>719</th>\n",
       "      <td>2013-12-28</td>\n",
       "      <td>282516</td>\n",
       "      <td>3084</td>\n",
       "    </tr>\n",
       "    <tr>\n",
       "      <th>720</th>\n",
       "      <td>2013-12-29</td>\n",
       "      <td>283092</td>\n",
       "      <td>2330</td>\n",
       "    </tr>\n",
       "    <tr>\n",
       "      <th>721</th>\n",
       "      <td>2013-12-30</td>\n",
       "      <td>283668</td>\n",
       "      <td>4928</td>\n",
       "    </tr>\n",
       "  </tbody>\n",
       "</table>\n",
       "</div>"
      ],
      "text/plain": [
       "      Datetime     sID  Count\n",
       "692 2013-12-01   80916    222\n",
       "693 2013-12-02   98772    490\n",
       "694 2013-12-03  114900    530\n",
       "695 2013-12-04  132756    852\n",
       "696 2013-12-05  150036    484\n",
       "697 2013-12-06  167892   1822\n",
       "698 2013-12-07  185172   1292\n",
       "699 2013-12-08  203028   2304\n",
       "700 2013-12-09  220884   2844\n",
       "701 2013-12-10  238164   2330\n",
       "702 2013-12-11  256020   3262\n",
       "703 2013-12-12  273300   4772\n",
       "704 2013-12-13  273876   3624\n",
       "705 2013-12-14  274452   2166\n",
       "706 2013-12-15  275028   2722\n",
       "707 2013-12-16  275604   5252\n",
       "708 2013-12-17  276180   4508\n",
       "709 2013-12-18  276756   4708\n",
       "710 2013-12-19  277332   4344\n",
       "711 2013-12-20  277908   3474\n",
       "712 2013-12-21  278484   1988\n",
       "713 2013-12-22  279060   1862\n",
       "714 2013-12-23  279636   3642\n",
       "715 2013-12-24  280212   3198\n",
       "716 2013-12-25  280788   3676\n",
       "717 2013-12-26  281364   3376\n",
       "718 2013-12-27  281940   3868\n",
       "719 2013-12-28  282516   3084\n",
       "720 2013-12-29  283092   2330\n",
       "721 2013-12-30  283668   4928"
      ]
     },
     "execution_count": 4,
     "metadata": {},
     "output_type": "execute_result"
    }
   ],
   "source": [
    "train = df[(df['Datetime'] >= '2012-01-09') & (df['Datetime'] < '2013-12-01')]\n",
    "test = df[(df['Datetime'] >= '2013-12-01') & (df['Datetime'] < '2013-12-31')]\n",
    "test"
   ]
  },
  {
   "cell_type": "code",
   "execution_count": 5,
   "id": "ed8089a4",
   "metadata": {},
   "outputs": [
    {
     "data": {
      "application/vnd.jupyter.widget-view+json": {
       "model_id": "49ec80b293024d83b39024d99b2a3c6e",
       "version_major": 2,
       "version_minor": 0
      },
      "text/plain": [
       "Canvas(toolbar=Toolbar(toolitems=[('Home', 'Reset original view', 'home', 'home'), ('Back', 'Back to previous …"
      ]
     },
     "metadata": {},
     "output_type": "display_data"
    }
   ],
   "source": [
    "dd= np.asarray(train.Count)\n",
    "y_hat = test.copy()\n",
    "y_hat['naive'] = dd[len(dd)-1]\n",
    "plt.figure(figsize=(12,8))\n",
    "plt.plot(train.index, train['Count'], label='Train')\n",
    "plt.plot(test.index,test['Count'], label='Test')\n",
    "plt.plot(y_hat.index,y_hat['naive'], label='Naive Forecast')\n",
    "plt.legend(loc='best')\n",
    "plt.title(\"Naive Approach\")\n",
    "plt.show()"
   ]
  },
  {
   "cell_type": "code",
   "execution_count": 6,
   "id": "3baba31c",
   "metadata": {},
   "outputs": [
    {
     "name": "stdout",
     "output_type": "stream",
     "text": [
      "1192.3333333333333\n",
      "1.1445220207595501\n",
      "2010050.8\n",
      "1417.7626035412277\n"
     ]
    }
   ],
   "source": [
    "from sklearn.metrics import mean_squared_error,mean_absolute_error,mean_absolute_percentage_error\n",
    "from math import sqrt\n",
    "mae = mean_absolute_error(test.Count, y_hat.naive)\n",
    "mape = mean_absolute_percentage_error(test.Count, y_hat.naive)\n",
    "mse = mean_squared_error(test.Count, y_hat.naive)\n",
    "rmse = sqrt(mean_squared_error(test.Count, y_hat.naive))\n",
    "print(mae)\n",
    "print(mape)\n",
    "print(mse)\n",
    "print(rmse)\n"
   ]
  },
  {
   "cell_type": "code",
   "execution_count": 7,
   "id": "5b994a81",
   "metadata": {},
   "outputs": [
    {
     "data": {
      "application/vnd.jupyter.widget-view+json": {
       "model_id": "7bfb5243ce6a414496a19d1f5f161b28",
       "version_major": 2,
       "version_minor": 0
      },
      "text/plain": [
       "Canvas(toolbar=Toolbar(toolitems=[('Home', 'Reset original view', 'home', 'home'), ('Back', 'Back to previous …"
      ]
     },
     "metadata": {},
     "output_type": "display_data"
    }
   ],
   "source": [
    "y_hat_avg = test.copy()\n",
    "y_hat_avg['avg_forecast'] = train['Count'].mean()\n",
    "plt.figure(figsize=(12,8))\n",
    "plt.plot(train['Count'], label='Train')\n",
    "plt.plot(test['Count'], label='Test')\n",
    "plt.plot(y_hat_avg['avg_forecast'], label='Average Forecast')\n",
    "plt.legend(loc='best')\n",
    "plt.title(\"Simple Average\")\n",
    "plt.show()"
   ]
  },
  {
   "cell_type": "code",
   "execution_count": 8,
   "id": "05e799b9",
   "metadata": {},
   "outputs": [
    {
     "name": "stdout",
     "output_type": "stream",
     "text": [
      "2017.6539499036614\n",
      "0.7567901764140926\n",
      "5555628.871192378\n",
      "2357.0381564990366\n"
     ]
    }
   ],
   "source": [
    "mae = mean_absolute_error(test.Count, y_hat_avg.avg_forecast)\n",
    "mape = mean_absolute_percentage_error(test.Count, y_hat_avg.avg_forecast)\n",
    "mse = mean_squared_error(test.Count, y_hat_avg.avg_forecast)\n",
    "rmse = sqrt(mean_squared_error(test.Count, y_hat_avg.avg_forecast))\n",
    "print(mae)\n",
    "print(mape)\n",
    "print(mse)\n",
    "print(rmse)"
   ]
  },
  {
   "cell_type": "code",
   "execution_count": 9,
   "id": "f7ff9240",
   "metadata": {},
   "outputs": [
    {
     "data": {
      "application/vnd.jupyter.widget-view+json": {
       "model_id": "bad5a28a24de4fe8af45f5d5be9a84d6",
       "version_major": 2,
       "version_minor": 0
      },
      "text/plain": [
       "Canvas(toolbar=Toolbar(toolitems=[('Home', 'Reset original view', 'home', 'home'), ('Back', 'Back to previous …"
      ]
     },
     "metadata": {},
     "output_type": "display_data"
    }
   ],
   "source": [
    "y_hat_avg = test.copy()\n",
    "y_hat_avg['moving_avg_forecast'] = train['Count'].rolling(60).mean().iloc[-1]\n",
    "plt.figure(figsize=(16,8))\n",
    "plt.plot(train['Count'], label='Train')\n",
    "plt.plot(test['Count'], label='Test')\n",
    "plt.plot(y_hat_avg['moving_avg_forecast'], label='Simple Moving Average Forecast')\n",
    "plt.title(\"Simple Mov'ng Average\")\n",
    "plt.legend(loc='best')\n",
    "plt.show()"
   ]
  },
  {
   "cell_type": "code",
   "execution_count": 10,
   "id": "9727ddcc",
   "metadata": {},
   "outputs": [
    {
     "name": "stdout",
     "output_type": "stream",
     "text": [
      "1183.6\n",
      "1.191545393332227\n",
      "2003156.7333333334\n",
      "1415.3291961000923\n"
     ]
    }
   ],
   "source": [
    "mae = mean_absolute_error(test.Count,y_hat_avg.moving_avg_forecast)\n",
    "mape = mean_absolute_percentage_error(test.Count, y_hat_avg.moving_avg_forecast)\n",
    "mse = mean_squared_error(test.Count, y_hat_avg.moving_avg_forecast)\n",
    "rmse = sqrt(mean_squared_error(test.Count, y_hat_avg.moving_avg_forecast))\n",
    "print(mae)\n",
    "print(mape)\n",
    "print(mse)\n",
    "print(rmse)"
   ]
  },
  {
   "cell_type": "code",
   "execution_count": 11,
   "id": "1bf64da2",
   "metadata": {},
   "outputs": [
    {
     "data": {
      "application/vnd.jupyter.widget-view+json": {
       "model_id": "f40a3a6c459c4ba68242f6731988fa6d",
       "version_major": 2,
       "version_minor": 0
      },
      "text/plain": [
       "Canvas(toolbar=Toolbar(toolitems=[('Home', 'Reset original view', 'home', 'home'), ('Back', 'Back to previous …"
      ]
     },
     "metadata": {},
     "output_type": "display_data"
    }
   ],
   "source": [
    "y_hat_avg = test.copy()\n",
    "weights = np.arange(1,61)\n",
    "sum_weights = np.sum(weights)\n",
    "y_hat_avg['weighted_moving_avg_forecast'] = train['Count'].rolling(window=60, center=True).apply(lambda x: np.sum(weights*x) / sum_weights, raw=False).mean()\n",
    "plt.figure(figsize=(16,8))\n",
    "plt.plot(train['Count'], label='Train')\n",
    "plt.plot(test['Count'], label='Test')\n",
    "plt.plot(y_hat_avg['weighted_moving_avg_forecast'], label='Weighted Moving Average Forecast')\n",
    "plt.title(\"Weighted Moving Average\")\n",
    "plt.legend(loc='best')\n",
    "plt.show()"
   ]
  },
  {
   "cell_type": "code",
   "execution_count": 12,
   "id": "5ee34cc5",
   "metadata": {},
   "outputs": [
    {
     "name": "stdout",
     "output_type": "stream",
     "text": [
      "2029.0463977301831\n",
      "0.7551041035960193\n",
      "5620346.81290499\n",
      "2370.727064194651\n"
     ]
    }
   ],
   "source": [
    "mae = mean_absolute_error(test.Count,y_hat_avg.weighted_moving_avg_forecast)\n",
    "mape = mean_absolute_percentage_error(test.Count, y_hat_avg.weighted_moving_avg_forecast)\n",
    "mse = mean_squared_error(test.Count, y_hat_avg.weighted_moving_avg_forecast)\n",
    "rmse = sqrt(mean_squared_error(test.Count, y_hat_avg.weighted_moving_avg_forecast))\n",
    "print(mae)\n",
    "print(mape)\n",
    "print(mse)\n",
    "print(rmse)"
   ]
  },
  {
   "cell_type": "code",
   "execution_count": 13,
   "id": "87df7ff8",
   "metadata": {},
   "outputs": [
    {
     "name": "stderr",
     "output_type": "stream",
     "text": [
      "C:\\ProgramData\\Anaconda3\\envs\\machinelearning\\lib\\site-packages\\statsmodels\\tsa\\holtwinters\\model.py:427: FutureWarning: After 0.13 initialization must be handled at model creation\n",
      "  warnings.warn(\n"
     ]
    },
    {
     "data": {
      "application/vnd.jupyter.widget-view+json": {
       "model_id": "42f97e5744e646689fc6db2cf8b8bb02",
       "version_major": 2,
       "version_minor": 0
      },
      "text/plain": [
       "Canvas(toolbar=Toolbar(toolitems=[('Home', 'Reset original view', 'home', 'home'), ('Back', 'Back to previous …"
      ]
     },
     "metadata": {},
     "output_type": "display_data"
    }
   ],
   "source": [
    "from statsmodels.tsa.api import ExponentialSmoothing, SimpleExpSmoothing, Holt\n",
    "y_hat_avg = test.copy()\n",
    "fit2 = SimpleExpSmoothing(np.asarray(train['Count'])).fit(smoothing_level=0.6,optimized=False)\n",
    "y_hat_avg['SES'] = fit2.forecast(len(test))\n",
    "plt.figure(figsize=(16,8))\n",
    "plt.plot(train['Count'], label='Train')\n",
    "plt.plot(test['Count'], label='Test')\n",
    "plt.plot(y_hat_avg['SES'], label='SES')\n",
    "plt.title(\"Simple Exponential Smoothing\")\n",
    "plt.legend(loc='best')\n",
    "plt.show()"
   ]
  },
  {
   "cell_type": "code",
   "execution_count": 14,
   "id": "1bc6298e",
   "metadata": {},
   "outputs": [
    {
     "name": "stdout",
     "output_type": "stream",
     "text": [
      "1193.9118655927266\n",
      "1.361935378787002\n",
      "2184871.5533030825\n",
      "1478.1311015275614\n"
     ]
    }
   ],
   "source": [
    "mae = mean_absolute_error(test.Count,y_hat_avg.SES)\n",
    "mape = mean_absolute_percentage_error(test.Count, y_hat_avg.SES)\n",
    "mse = mean_squared_error(test.Count, y_hat_avg.SES)\n",
    "rmse = sqrt(mean_squared_error(test.Count, y_hat_avg.SES))\n",
    "print(mae)\n",
    "print(mape)\n",
    "print(mse)\n",
    "print(rmse)"
   ]
  },
  {
   "cell_type": "code",
   "execution_count": 15,
   "id": "249fc3e3",
   "metadata": {},
   "outputs": [
    {
     "name": "stderr",
     "output_type": "stream",
     "text": [
      "C:\\ProgramData\\Anaconda3\\envs\\machinelearning\\lib\\site-packages\\statsmodels\\tsa\\holtwinters\\model.py:427: FutureWarning: After 0.13 initialization must be handled at model creation\n",
      "  warnings.warn(\n",
      "<ipython-input-15-764f164d9f1a>:3: FutureWarning: the 'smoothing_slope'' keyword is deprecated, use 'smoothing_trend' instead\n",
      "  fit1 = Holt(np.asarray(train['Count'])).fit(smoothing_level = 0.3,smoothing_slope = 0.1)\n"
     ]
    },
    {
     "data": {
      "application/vnd.jupyter.widget-view+json": {
       "model_id": "2c720ec51cfe4b81b4296394555b832d",
       "version_major": 2,
       "version_minor": 0
      },
      "text/plain": [
       "Canvas(toolbar=Toolbar(toolitems=[('Home', 'Reset original view', 'home', 'home'), ('Back', 'Back to previous …"
      ]
     },
     "metadata": {},
     "output_type": "display_data"
    }
   ],
   "source": [
    "y_hat_avg = test.copy()\n",
    "\n",
    "fit1 = Holt(np.asarray(train['Count'])).fit(smoothing_level = 0.3,smoothing_slope = 0.1)\n",
    "y_hat_avg['Holt_linear'] = fit1.forecast(len(test))\n",
    "\n",
    "plt.figure(figsize=(16,8))\n",
    "plt.plot(train['Count'], label='Train')\n",
    "plt.plot(test['Count'], label='Test')\n",
    "plt.plot(y_hat_avg['Holt_linear'], label='Holt_linear')\n",
    "plt.legend(loc='best')\n",
    "plt.title(\"Double Exponential Smoothing\")\n",
    "plt.show()"
   ]
  },
  {
   "cell_type": "code",
   "execution_count": 16,
   "id": "6f509f42",
   "metadata": {},
   "outputs": [
    {
     "name": "stdout",
     "output_type": "stream",
     "text": [
      "1572.1115908366069\n",
      "1.7386245902798483\n",
      "3511140.266108458\n",
      "1873.8036893197905\n"
     ]
    }
   ],
   "source": [
    "mae = mean_absolute_error(test.Count,y_hat_avg.Holt_linear)\n",
    "mape = mean_absolute_percentage_error(test.Count, y_hat_avg.Holt_linear)\n",
    "mse = mean_squared_error(test.Count, y_hat_avg.Holt_linear)\n",
    "rmse = sqrt(mean_squared_error(test.Count, y_hat_avg.Holt_linear))\n",
    "print(mae)\n",
    "print(mape)\n",
    "print(mse)\n",
    "print(rmse)"
   ]
  },
  {
   "cell_type": "code",
   "execution_count": 17,
   "id": "7c2294d2",
   "metadata": {},
   "outputs": [
    {
     "name": "stderr",
     "output_type": "stream",
     "text": [
      "C:\\ProgramData\\Anaconda3\\envs\\machinelearning\\lib\\site-packages\\statsmodels\\tsa\\holtwinters\\model.py:427: FutureWarning: After 0.13 initialization must be handled at model creation\n",
      "  warnings.warn(\n",
      "C:\\ProgramData\\Anaconda3\\envs\\machinelearning\\lib\\site-packages\\statsmodels\\tsa\\holtwinters\\model.py:920: ConvergenceWarning: Optimization failed to converge. Check mle_retvals.\n",
      "  warnings.warn(\n"
     ]
    },
    {
     "data": {
      "application/vnd.jupyter.widget-view+json": {
       "model_id": "2125aaedfe6341bfba04e5efd6ded36c",
       "version_major": 2,
       "version_minor": 0
      },
      "text/plain": [
       "Canvas(toolbar=Toolbar(toolitems=[('Home', 'Reset original view', 'home', 'home'), ('Back', 'Back to previous …"
      ]
     },
     "metadata": {},
     "output_type": "display_data"
    }
   ],
   "source": [
    "y_hat_avg = test.copy()\n",
    "fit1 = ExponentialSmoothing(np.asarray(train['Count']) ,seasonal_periods=7 ,trend='add', seasonal='add',).fit()\n",
    "y_hat_avg['Holt_Winter'] = fit1.forecast(len(test))\n",
    "plt.figure(figsize=(16,8))\n",
    "plt.plot( train['Count'], label='Train')\n",
    "plt.plot(test['Count'], label='Test')\n",
    "plt.plot(y_hat_avg['Holt_Winter'], label='Holt_Winter')\n",
    "plt.title(\"Triple Exponential Smoothing\")\n",
    "plt.legend(loc='best')\n",
    "plt.show()"
   ]
  },
  {
   "cell_type": "code",
   "execution_count": 18,
   "id": "f7f4691a",
   "metadata": {},
   "outputs": [
    {
     "name": "stdout",
     "output_type": "stream",
     "text": [
      "1197.3017087266371\n",
      "1.474278293113066\n",
      "2421135.2823967594\n",
      "1555.999769407682\n"
     ]
    }
   ],
   "source": [
    "mae = mean_absolute_error(test.Count,y_hat_avg.Holt_Winter)\n",
    "mape = mean_absolute_percentage_error(test.Count, y_hat_avg.Holt_Winter)\n",
    "mse = mean_squared_error(test.Count, y_hat_avg.Holt_Winter)\n",
    "rmse = sqrt(mean_squared_error(test.Count, y_hat_avg.Holt_Winter))\n",
    "print(mae)\n",
    "print(mape)\n",
    "print(mse)\n",
    "print(rmse)"
   ]
  },
  {
   "cell_type": "code",
   "execution_count": null,
   "id": "47fcab46",
   "metadata": {},
   "outputs": [],
   "source": []
  }
 ],
 "metadata": {
  "kernelspec": {
   "display_name": "Python 3 (ipykernel)",
   "language": "python",
   "name": "python3"
  },
  "language_info": {
   "codemirror_mode": {
    "name": "ipython",
    "version": 3
   },
   "file_extension": ".py",
   "mimetype": "text/x-python",
   "name": "python",
   "nbconvert_exporter": "python",
   "pygments_lexer": "ipython3",
   "version": "3.9.7"
  }
 },
 "nbformat": 4,
 "nbformat_minor": 5
}
